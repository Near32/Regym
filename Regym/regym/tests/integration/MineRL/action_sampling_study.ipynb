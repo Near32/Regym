{
 "cells": [
  {
   "cell_type": "markdown",
   "metadata": {},
   "source": [
    "## Build an agent:"
   ]
  },
  {
   "cell_type": "code",
   "execution_count": 19,
   "metadata": {},
   "outputs": [],
   "source": [
    "import numpy as np"
   ]
  },
  {
   "cell_type": "code",
   "execution_count": 2,
   "metadata": {},
   "outputs": [],
   "source": [
    "import minerl_training"
   ]
  },
  {
   "cell_type": "code",
   "execution_count": 3,
   "metadata": {},
   "outputs": [],
   "source": [
    "def train_and_evaluate(agent: object, \n",
    "                       task: object, \n",
    "                       sum_writer: object, \n",
    "                       base_path: str, \n",
    "                       offset_episode_count: int = 0, \n",
    "                       nbr_max_observations: int = 1e7,\n",
    "                       test_obs_interval: int = 1e4,\n",
    "                       test_nbr_episode: int = 10,\n",
    "                       benchmarking_record_episode_interval: int = None):\n",
    "    return agent"
   ]
  },
  {
   "cell_type": "code",
   "execution_count": 4,
   "metadata": {},
   "outputs": [],
   "source": [
    "minerl_training.train_and_evaluate = train_and_evaluate"
   ]
  },
  {
   "cell_type": "code",
   "execution_count": 5,
   "metadata": {},
   "outputs": [
    {
     "name": "stderr",
     "output_type": "stream",
     "text": [
      "/media/kevin/TOSHIBA_EXT1/DATA/UNI/MineRL/minerl/train/Regym/regym/tests/integration/MineRL/minerl_training.py:129: YAMLLoadWarning: calling yaml.load() without Loader=... is deprecated, as the default Loader is unsafe. Please read https://msg.pyyaml.org/load for full details.\n",
      "  all_configs = yaml.load(open(config_file_path))\n"
     ]
    },
    {
     "name": "stdout",
     "output_type": "stream",
     "text": [
      "Path: -- MineRL_training/MineRLTreechop-v0/Seed13_venv_ppo_1actors_Sk4_St4_Obs84_NoGrayscale_NoScaling_PPOratio1m1_StdAdv_SingleRewardEpisode+P/ppo_LargeCNN_h128_b32 --\n"
     ]
    },
    {
     "name": "stderr",
     "output_type": "stream",
     "text": [
      "2020-01-18 12:48:30 kevin-PRIME-Z270-P minerl.env.malmo.instance.41519e[11883] INFO Starting Minecraft process: ['/tmp/tmp57dmgsud/Minecraft/launchClient.sh', '-port', '9001', '-env', '-runDir', '/tmp/tmp57dmgsud/Minecraft/run']\n",
      "2020-01-18 12:48:30 kevin-PRIME-Z270-P minerl.env.malmo.instance.41519e[11883] INFO Starting process watcher for process 12423 @ localhost:9001\n",
      "2020-01-18 12:49:25 kevin-PRIME-Z270-P minerl.env.malmo.instance.41519e[11883] INFO Minecraft process ready\n",
      "2020-01-18 12:49:25 kevin-PRIME-Z270-P minerl.env.malmo[11883] INFO Logging output of Minecraft to ./logs/mc_1.log\n",
      "2020-01-18 12:49:28 kevin-PRIME-Z270-P minerl.env.malmo[11883] INFO Minecraft process psutil.Process(pid=12423, status='terminated') terminated with exit code 0\n"
     ]
    },
    {
     "name": "stdout",
     "output_type": "stream",
     "text": [
      "CNN: layer output dim: 20\n",
      "CNN: layer output dim: 10\n",
      "CNN: layer output dim: 10\n",
      "ActorCriticNet(\n",
      "  (phi_body): ConvolutionalBody(\n",
      "    (convs): ModuleList(\n",
      "      (0): Conv2d(12, 32, kernel_size=(8, 8), stride=(4, 4), padding=(1, 1))\n",
      "      (1): Conv2d(32, 64, kernel_size=(4, 4), stride=(2, 2), padding=(1, 1))\n",
      "      (2): Conv2d(64, 64, kernel_size=(3, 3), stride=(1, 1), padding=(1, 1))\n",
      "    )\n",
      "    (fcs): ModuleList(\n",
      "      (0): Linear(in_features=6400, out_features=512, bias=True)\n",
      "    )\n",
      "  )\n",
      "  (actor_body): DummyBody()\n",
      "  (critic_body): DummyBody()\n",
      "  (fc_action): Linear(in_features=512, out_features=5, bias=True)\n",
      "  (fc_critic): Linear(in_features=512, out_features=1, bias=True)\n",
      ")\n",
      "phi_body.convs.0.weight torch.Size([32, 12, 8, 8])\n",
      "phi_body.convs.0.bias torch.Size([32])\n",
      "phi_body.convs.1.weight torch.Size([64, 32, 4, 4])\n",
      "phi_body.convs.1.bias torch.Size([64])\n",
      "phi_body.convs.2.weight torch.Size([64, 64, 3, 3])\n",
      "phi_body.convs.2.bias torch.Size([64])\n",
      "phi_body.fcs.0.weight torch.Size([512, 6400])\n",
      "phi_body.fcs.0.bias torch.Size([512])\n",
      "fc_action.weight torch.Size([5, 512])\n",
      "fc_action.bias torch.Size([5])\n",
      "fc_critic.weight torch.Size([1, 512])\n",
      "fc_critic.bias torch.Size([1])\n",
      "Learning rate: 0.00025\n"
     ]
    }
   ],
   "source": [
    "agents, tasks = minerl_training.main()"
   ]
  },
  {
   "cell_type": "code",
   "execution_count": 6,
   "metadata": {},
   "outputs": [],
   "source": [
    "agent = agents[0]\n",
    "task = tasks[0]"
   ]
  },
  {
   "cell_type": "markdown",
   "metadata": {},
   "source": [
    "## Duplicate and parameterize the agents action sampling function:"
   ]
  },
  {
   "cell_type": "code",
   "execution_count": 7,
   "metadata": {},
   "outputs": [],
   "source": [
    "EPS = 1e-8\n",
    "VERBOSE = True \n",
    "\n",
    "def forward0(self, obs, action=None, rnn_states=None):\n",
    "    global EPS\n",
    "    global VERBOSE\n",
    "    if VERBOSE:\n",
    "        print(\"Sampling actions with function 0.\")\n",
    "    obs = tensor(obs)\n",
    "    next_rnn_states = None \n",
    "    if rnn_states is not None:\n",
    "        next_rnn_states = {k: None for k in rnn_states}\n",
    "\n",
    "    if rnn_states is not None and 'phi_arch' in rnn_states:\n",
    "        phi, next_rnn_states['phi_arch'] = self.network.phi_body( (obs, rnn_states['phi_arch']) )\n",
    "    else:\n",
    "        phi = self.network.phi_body(obs)\n",
    "\n",
    "    if rnn_states is not None and 'actor_arch' in rnn_states:\n",
    "        phi_a, next_rnn_states['actor_arch'] = self.network.actor_body( (phi, rnn_states['actor_arch']) )\n",
    "    else:\n",
    "        phi_a = self.network.actor_body(phi)\n",
    "\n",
    "    if rnn_states is not None and 'critic_arch' in rnn_states:\n",
    "        phi_v, next_rnn_states['critic_arch'] = self.network.critic_body( (phi, rnn_states['critic_arch']) )\n",
    "    else:\n",
    "        phi_v = self.network.critic_body(phi)\n",
    "\n",
    "    logits = self.network.fc_action(phi_a)\n",
    "    probs = F.softmax( logits, dim=-1 )\n",
    "    #https://github.com/pytorch/pytorch/issues/7014\n",
    "    #probs = torch.clamp(probs, -1e10, 1e10)\n",
    "\n",
    "    # batch x action_dim\n",
    "    v = self.network.fc_critic(phi_v)\n",
    "    if self.use_intrinsic_critic:\n",
    "        int_v = self.network.fc_int_critic(phi_v)\n",
    "    # batch x 1\n",
    "\n",
    "    batch_size = logits.size(0)\n",
    "\n",
    "    '''\n",
    "    # RND1\n",
    "    # probs:\n",
    "    dists = torch.distributions.categorical.Categorical(probs=probs)\n",
    "\n",
    "    if action is None:\n",
    "        action = dists.sample()#.unsqueeze(1)\n",
    "        # batch #x 1\n",
    "    log_prob = dists.log_prob(action)\n",
    "    # batch #x 1\n",
    "    entropy = dists.entropy().unsqueeze(1)\n",
    "    # batch #x 1\n",
    "    '''\n",
    "\n",
    "    '''\n",
    "    '''\n",
    "    # NORMAL:\n",
    "    #log_probs = F.log_softmax(logits, dim=-1)\n",
    "    log_probs = torch.log(probs+EPS)\n",
    "    entropy = -torch.sum(probs*log_probs, dim=-1)#, keepdim=True)\n",
    "    # batch #x 1\n",
    "\n",
    "    if action is None:\n",
    "        #action = (probs+EPS).multinomial(num_samples=1).squeeze(1)\n",
    "        action = torch.multinomial( probs, num_samples=1).squeeze(1)\n",
    "        # batch #x 1\n",
    "    log_probs = log_probs.gather(1, action.unsqueeze(1)).squeeze(1)\n",
    "    # batch #x 1\n",
    "    '''\n",
    "    '''\n",
    "\n",
    "    '''\n",
    "    #RND2:\n",
    "    # probs:\n",
    "    log_probs = F.log_softmax(logits, dim=-1)\n",
    "    #entropy = dists.entropy().unsqueeze(1)\n",
    "    entropy = -(log_probs * probs).sum(1)#, keepdim=True)\n",
    "    # batch #x 1\n",
    "\n",
    "    if action is None:\n",
    "        p = probs.detach().cpu().numpy()\n",
    "        axis = 1\n",
    "        r = np.expand_dims(np.random.rand(p.shape[1 - axis]), axis=axis)\n",
    "        action = (p.cumsum(axis=axis) > r).argmax(axis=axis)\n",
    "        action = torch.from_numpy(action).to(probs.device)\n",
    "        # batch #x 1\n",
    "    log_probs = log_probs.gather(1, action.unsqueeze(1)).squeeze(1)\n",
    "    # batch #x 1\n",
    "    '''\n",
    "\n",
    "    prediction = {'a': action,\n",
    "                'log_pi_a': log_probs,\n",
    "                'action_logits': logits,\n",
    "                'ent': entropy,\n",
    "                'v': v}\n",
    "\n",
    "    if self.use_intrinsic_critic:\n",
    "        prediction['int_v'] = int_v\n",
    "\n",
    "    if rnn_states is not None:\n",
    "        prediction.update({'rnn_states': rnn_states,\n",
    "                           'next_rnn_states': next_rnn_states})\n",
    "\n",
    "    return prediction\n",
    "\n",
    "\n",
    "def forward1(self, obs=None, action=None, rnn_states=None):\n",
    "    global EPS\n",
    "    global VERBOSE\n",
    "    if VERBOSE:\n",
    "        print(\"Sampling actions with function 1.\")\n",
    "    obs = tensor(obs)\n",
    "    next_rnn_states = None \n",
    "    if rnn_states is not None:\n",
    "        next_rnn_states = {k: None for k in rnn_states}\n",
    "\n",
    "    if rnn_states is not None and 'phi_arch' in rnn_states:\n",
    "        phi, next_rnn_states['phi_arch'] = self.network.phi_body( (obs, rnn_states['phi_arch']) )\n",
    "    else:\n",
    "        phi = self.network.phi_body(obs)\n",
    "\n",
    "    if rnn_states is not None and 'actor_arch' in rnn_states:\n",
    "        phi_a, next_rnn_states['actor_arch'] = self.network.actor_body( (phi, rnn_states['actor_arch']) )\n",
    "    else:\n",
    "        phi_a = self.network.actor_body(phi)\n",
    "\n",
    "    if rnn_states is not None and 'critic_arch' in rnn_states:\n",
    "        phi_v, next_rnn_states['critic_arch'] = self.network.critic_body( (phi, rnn_states['critic_arch']) )\n",
    "    else:\n",
    "        phi_v = self.network.critic_body(phi)\n",
    "\n",
    "    logits = self.network.fc_action(phi_a)\n",
    "    probs = F.softmax( logits, dim=-1 )\n",
    "    #https://github.com/pytorch/pytorch/issues/7014\n",
    "    #probs = torch.clamp(probs, -1e10, 1e10)\n",
    "\n",
    "    # batch x action_dim\n",
    "    v = self.network.fc_critic(phi_v)\n",
    "    if self.use_intrinsic_critic:\n",
    "        int_v = self.network.fc_int_critic(phi_v)\n",
    "    # batch x 1\n",
    "\n",
    "    batch_size = logits.size(0)\n",
    "\n",
    "    '''\n",
    "    '''\n",
    "    # RND1\n",
    "    # probs:\n",
    "    dists = torch.distributions.categorical.Categorical(probs=probs)\n",
    "\n",
    "    if action is None:\n",
    "        action = dists.sample()#.unsqueeze(1)\n",
    "        # batch #x 1\n",
    "    log_prob = dists.log_prob(action)\n",
    "    # batch #x 1\n",
    "    entropy = dists.entropy().unsqueeze(1)\n",
    "    # batch #x 1\n",
    "    '''\n",
    "    '''\n",
    "\n",
    "    '''\n",
    "    # NORMAL:\n",
    "    #log_probs = F.log_softmax(logits, dim=-1)\n",
    "    log_probs = torch.log(probs+EPS)\n",
    "    entropy = -torch.sum(probs*log_probs, dim=-1)#, keepdim=True)\n",
    "    # batch #x 1\n",
    "\n",
    "    if action is None:\n",
    "        #action = (probs+EPS).multinomial(num_samples=1).squeeze(1)\n",
    "        action = torch.multinomial( probs, num_samples=1).squeeze(1)\n",
    "        # batch #x 1\n",
    "    log_probs = log_probs.gather(1, action.unsqueeze(1)).squeeze(1)\n",
    "    # batch #x 1\n",
    "    '''\n",
    "    \n",
    "    '''\n",
    "    #RND2:\n",
    "    # probs:\n",
    "    log_probs = F.log_softmax(logits, dim=-1)\n",
    "    #entropy = dists.entropy().unsqueeze(1)\n",
    "    entropy = -(log_probs * probs).sum(1)#, keepdim=True)\n",
    "    # batch #x 1\n",
    "\n",
    "    if action is None:\n",
    "        p = probs.detach().cpu().numpy()\n",
    "        axis = 1\n",
    "        r = np.expand_dims(np.random.rand(p.shape[1 - axis]), axis=axis)\n",
    "        action = (p.cumsum(axis=axis) > r).argmax(axis=axis)\n",
    "        action = torch.from_numpy(action).to(probs.device)\n",
    "        # batch #x 1\n",
    "    log_probs = log_probs.gather(1, action.unsqueeze(1)).squeeze(1)\n",
    "    # batch #x 1\n",
    "    '''\n",
    "\n",
    "    prediction = {'a': action,\n",
    "                'log_pi_a': log_probs,\n",
    "                'action_logits': logits,\n",
    "                'ent': entropy,\n",
    "                'v': v}\n",
    "\n",
    "    if self.use_intrinsic_critic:\n",
    "        prediction['int_v'] = int_v\n",
    "\n",
    "    if rnn_states is not None:\n",
    "        prediction.update({'rnn_states': rnn_states,\n",
    "                           'next_rnn_states': next_rnn_states})\n",
    "\n",
    "    return prediction\n",
    "\n",
    "\n",
    "def forward2(self, obs, action=None, rnn_states=None):\n",
    "    global EPS\n",
    "    global VERBOSE\n",
    "    if VERBOSE:\n",
    "        print(\"Sampling actions with function 2.\")\n",
    "    obs = tensor(obs)\n",
    "    next_rnn_states = None \n",
    "    if rnn_states is not None:\n",
    "        next_rnn_states = {k: None for k in rnn_states}\n",
    "\n",
    "    if rnn_states is not None and 'phi_arch' in rnn_states:\n",
    "        phi, next_rnn_states['phi_arch'] = self.network.phi_body( (obs, rnn_states['phi_arch']) )\n",
    "    else:\n",
    "        phi = self.network.phi_body(obs)\n",
    "\n",
    "    if rnn_states is not None and 'actor_arch' in rnn_states:\n",
    "        phi_a, next_rnn_states['actor_arch'] = self.network.actor_body( (phi, rnn_states['actor_arch']) )\n",
    "    else:\n",
    "        phi_a = self.network.actor_body(phi)\n",
    "\n",
    "    if rnn_states is not None and 'critic_arch' in rnn_states:\n",
    "        phi_v, next_rnn_states['critic_arch'] = self.network.critic_body( (phi, rnn_states['critic_arch']) )\n",
    "    else:\n",
    "        phi_v = self.network.critic_body(phi)\n",
    "\n",
    "    logits = self.network.fc_action(phi_a)\n",
    "    probs = F.softmax( logits, dim=-1 )\n",
    "    #https://github.com/pytorch/pytorch/issues/7014\n",
    "    #probs = torch.clamp(probs, -1e10, 1e10)\n",
    "\n",
    "    # batch x action_dim\n",
    "    v = self.network.fc_critic(phi_v)\n",
    "    if self.use_intrinsic_critic:\n",
    "        int_v = self.network.fc_int_critic(phi_v)\n",
    "    # batch x 1\n",
    "\n",
    "    batch_size = logits.size(0)\n",
    "\n",
    "    '''\n",
    "    # RND1\n",
    "    # probs:\n",
    "    dists = torch.distributions.categorical.Categorical(probs=probs)\n",
    "\n",
    "    if action is None:\n",
    "        action = dists.sample()#.unsqueeze(1)\n",
    "        # batch #x 1\n",
    "    log_prob = dists.log_prob(action)\n",
    "    # batch #x 1\n",
    "    entropy = dists.entropy().unsqueeze(1)\n",
    "    # batch #x 1\n",
    "    '''\n",
    "    \n",
    "    '''\n",
    "    # NORMAL:\n",
    "    #log_probs = F.log_softmax(logits, dim=-1)\n",
    "    log_probs = torch.log(probs+EPS)\n",
    "    entropy = -torch.sum(probs*log_probs, dim=-1)#, keepdim=True)\n",
    "    # batch #x 1\n",
    "\n",
    "    if action is None:\n",
    "        #action = (probs+EPS).multinomial(num_samples=1).squeeze(1)\n",
    "        action = torch.multinomial( probs, num_samples=1).squeeze(1)\n",
    "        # batch #x 1\n",
    "    log_probs = log_probs.gather(1, action.unsqueeze(1)).squeeze(1)\n",
    "    # batch #x 1\n",
    "    '''\n",
    "    \n",
    "    '''\n",
    "    '''\n",
    "    #RND2:\n",
    "    # probs:\n",
    "    log_probs = F.log_softmax(logits, dim=-1)\n",
    "    #entropy = dists.entropy().unsqueeze(1)\n",
    "    entropy = -(log_probs * probs).sum(1)#, keepdim=True)\n",
    "    # batch #x 1\n",
    "\n",
    "    if action is None:\n",
    "        p = probs.detach().cpu().numpy()\n",
    "        axis = 1\n",
    "        r = np.expand_dims(np.random.rand(p.shape[1 - axis]), axis=axis)\n",
    "        action = (p.cumsum(axis=axis) > r).argmax(axis=axis)\n",
    "        action = torch.from_numpy(action).to(probs.device)\n",
    "        # batch #x 1\n",
    "    log_probs = log_probs.gather(1, action.unsqueeze(1)).squeeze(1)\n",
    "    # batch #x 1\n",
    "    '''\n",
    "    '''\n",
    "\n",
    "    prediction = {'a': action,\n",
    "                'log_pi_a': log_probs,\n",
    "                'action_logits': logits,\n",
    "                'ent': entropy,\n",
    "                'v': v}\n",
    "\n",
    "    if self.use_intrinsic_critic:\n",
    "        prediction['int_v'] = int_v\n",
    "\n",
    "    if rnn_states is not None:\n",
    "        prediction.update({'rnn_states': rnn_states,\n",
    "                           'next_rnn_states': next_rnn_states})\n",
    "\n",
    "    return prediction\n",
    "\n"
   ]
  },
  {
   "cell_type": "code",
   "execution_count": 8,
   "metadata": {},
   "outputs": [],
   "source": [
    "agents.append(agent.clone())\n",
    "agents.append(agent.clone())"
   ]
  },
  {
   "cell_type": "code",
   "execution_count": 9,
   "metadata": {},
   "outputs": [],
   "source": [
    "agents[1].algorithm.model.forward = forward1"
   ]
  },
  {
   "cell_type": "code",
   "execution_count": 10,
   "metadata": {},
   "outputs": [],
   "source": [
    "agents[2].algorithm.model.forward = forward2"
   ]
  },
  {
   "cell_type": "markdown",
   "metadata": {},
   "source": [
    "## Issue with nn.Module's __call__ function:"
   ]
  },
  {
   "cell_type": "code",
   "execution_count": 28,
   "metadata": {},
   "outputs": [
    {
     "ename": "TypeError",
     "evalue": "hfn() missing 1 required positional argument: 'obs'",
     "output_type": "error",
     "traceback": [
      "\u001b[0;31m---------------------------------------------------------------------------\u001b[0m",
      "\u001b[0;31mTypeError\u001b[0m                                 Traceback (most recent call last)",
      "\u001b[0;32m<ipython-input-28-c150166465e4>\u001b[0m in \u001b[0;36m<module>\u001b[0;34m\u001b[0m\n\u001b[1;32m     20\u001b[0m \u001b[0minstA\u001b[0m\u001b[0;34m.\u001b[0m\u001b[0mforward\u001b[0m \u001b[0;34m=\u001b[0m \u001b[0mhfn\u001b[0m\u001b[0;34m\u001b[0m\u001b[0;34m\u001b[0m\u001b[0m\n\u001b[1;32m     21\u001b[0m \u001b[0;34m\u001b[0m\u001b[0m\n\u001b[0;32m---> 22\u001b[0;31m \u001b[0;32massert\u001b[0m\u001b[0;34m(\u001b[0m \u001b[0minstA\u001b[0m\u001b[0;34m(\u001b[0m\u001b[0;36m1\u001b[0m\u001b[0;34m)\u001b[0m \u001b[0;34m==\u001b[0m \u001b[0;36m0\u001b[0m\u001b[0;34m)\u001b[0m\u001b[0;34m\u001b[0m\u001b[0;34m\u001b[0m\u001b[0m\n\u001b[0m",
      "\u001b[0;32m<ipython-input-28-c150166465e4>\u001b[0m in \u001b[0;36m__call__\u001b[0;34m(self, *input, **kwargs)\u001b[0m\n\u001b[1;32m      5\u001b[0m     \u001b[0;32mdef\u001b[0m \u001b[0m__call__\u001b[0m\u001b[0;34m(\u001b[0m\u001b[0mself\u001b[0m\u001b[0;34m,\u001b[0m \u001b[0;34m*\u001b[0m\u001b[0minput\u001b[0m\u001b[0;34m,\u001b[0m \u001b[0;34m**\u001b[0m\u001b[0mkwargs\u001b[0m\u001b[0;34m)\u001b[0m\u001b[0;34m:\u001b[0m\u001b[0;34m\u001b[0m\u001b[0;34m\u001b[0m\u001b[0m\n\u001b[1;32m      6\u001b[0m         \u001b[0;31m#return self.forward(*[self,*input],**kwargs)\u001b[0m\u001b[0;34m\u001b[0m\u001b[0;34m\u001b[0m\u001b[0;34m\u001b[0m\u001b[0m\n\u001b[0;32m----> 7\u001b[0;31m         \u001b[0;32mreturn\u001b[0m \u001b[0mself\u001b[0m\u001b[0;34m.\u001b[0m\u001b[0mforward\u001b[0m\u001b[0;34m(\u001b[0m\u001b[0;34m*\u001b[0m\u001b[0minput\u001b[0m\u001b[0;34m,\u001b[0m\u001b[0;34m**\u001b[0m\u001b[0mkwargs\u001b[0m\u001b[0;34m)\u001b[0m\u001b[0;34m\u001b[0m\u001b[0;34m\u001b[0m\u001b[0m\n\u001b[0m\u001b[1;32m      8\u001b[0m \u001b[0;34m\u001b[0m\u001b[0m\n\u001b[1;32m      9\u001b[0m \u001b[0;32mclass\u001b[0m \u001b[0mA\u001b[0m\u001b[0;34m(\u001b[0m\u001b[0mA0\u001b[0m\u001b[0;34m)\u001b[0m\u001b[0;34m:\u001b[0m\u001b[0;34m\u001b[0m\u001b[0;34m\u001b[0m\u001b[0m\n",
      "\u001b[0;31mTypeError\u001b[0m: hfn() missing 1 required positional argument: 'obs'"
     ]
    },
    {
     "name": "stdout",
     "output_type": "stream",
     "text": [
      "> \u001b[0;32m<ipython-input-28-c150166465e4>\u001b[0m(7)\u001b[0;36m__call__\u001b[0;34m()\u001b[0m\n",
      "\u001b[0;32m      5 \u001b[0;31m    \u001b[0;32mdef\u001b[0m \u001b[0m__call__\u001b[0m\u001b[0;34m(\u001b[0m\u001b[0mself\u001b[0m\u001b[0;34m,\u001b[0m \u001b[0;34m*\u001b[0m\u001b[0minput\u001b[0m\u001b[0;34m,\u001b[0m \u001b[0;34m**\u001b[0m\u001b[0mkwargs\u001b[0m\u001b[0;34m)\u001b[0m\u001b[0;34m:\u001b[0m\u001b[0;34m\u001b[0m\u001b[0;34m\u001b[0m\u001b[0m\n",
      "\u001b[0m\u001b[0;32m      6 \u001b[0;31m        \u001b[0;31m#return self.forward(*[self,*input],**kwargs)\u001b[0m\u001b[0;34m\u001b[0m\u001b[0;34m\u001b[0m\u001b[0;34m\u001b[0m\u001b[0m\n",
      "\u001b[0m\u001b[0;32m----> 7 \u001b[0;31m        \u001b[0;32mreturn\u001b[0m \u001b[0mself\u001b[0m\u001b[0;34m.\u001b[0m\u001b[0mforward\u001b[0m\u001b[0;34m(\u001b[0m\u001b[0;34m*\u001b[0m\u001b[0minput\u001b[0m\u001b[0;34m,\u001b[0m\u001b[0;34m**\u001b[0m\u001b[0mkwargs\u001b[0m\u001b[0;34m)\u001b[0m\u001b[0;34m\u001b[0m\u001b[0;34m\u001b[0m\u001b[0m\n",
      "\u001b[0m\u001b[0;32m      8 \u001b[0;31m\u001b[0;34m\u001b[0m\u001b[0m\n",
      "\u001b[0m\u001b[0;32m      9 \u001b[0;31m\u001b[0;32mclass\u001b[0m \u001b[0mA\u001b[0m\u001b[0;34m(\u001b[0m\u001b[0mA0\u001b[0m\u001b[0;34m)\u001b[0m\u001b[0;34m:\u001b[0m\u001b[0;34m\u001b[0m\u001b[0;34m\u001b[0m\u001b[0m\n",
      "\u001b[0m\n",
      "ipdb> pp input\n",
      "(1,)\n",
      "ipdb> pp *input\n",
      "*** SyntaxError: invalid syntax\n",
      "ipdb> print( *input)\n",
      "1\n",
      "ipdb> exit\n"
     ]
    }
   ],
   "source": [
    "class A0(object):\n",
    "    def forward(self, *input, **kwargs):\n",
    "        raise NotImplemented\n",
    "        \n",
    "    def __call__(self, *input, **kwargs):\n",
    "        #return self.forward(*[self,*input],**kwargs)\n",
    "        return self.forward(*input,**kwargs)\n",
    "    \n",
    "class A(A0):\n",
    "    def forward(self, obs, action=None):\n",
    "        print(self, obs, action)\n",
    "        return 1\n",
    "\n",
    "instA = A()\n",
    "\n",
    "def hfn(self, obs, action=None):\n",
    "    print(self,obs, action)\n",
    "    return 0\n",
    "\n",
    "instA.forward = hfn\n",
    "\n",
    "assert( instA(1) == 0)"
   ]
  },
  {
   "cell_type": "code",
   "execution_count": 25,
   "metadata": {},
   "outputs": [],
   "source": [
    "import torch\n",
    "import torch.nn as nn\n",
    "\n",
    "def original_fn(self, *input, **kwargs):\n",
    "     for hook in self._forward_pre_hooks.values():\n",
    "         result = hook(self, input)\n",
    "         if result is not None:\n",
    "             if not isinstance(result, tuple):\n",
    "                 result = (result,)\n",
    "             input = result\n",
    "     if torch._C._get_tracing_state():\n",
    "         result = self._slow_forward(*input, **kwargs)\n",
    "     else:\n",
    "         result = self.forward(*input, **kwargs)\n",
    "     for hook in self._forward_hooks.values():\n",
    "         hook_result = hook(self, input, result)\n",
    "         if hook_result is not None:\n",
    "             result = hook_result\n",
    "     if len(self._backward_hooks) > 0:\n",
    "         var = result\n",
    "         while not isinstance(var, torch.Tensor):\n",
    "             if isinstance(var, dict):\n",
    "                 var = next((v for v in var.values() if isinstance(v, torch.Tensor)))\n",
    "             else:\n",
    "                 var = var[0]\n",
    "         grad_fn = var.grad_fn\n",
    "         if grad_fn is not None:\n",
    "             for hook in self._backward_hooks.values():\n",
    "                 wrapper = functools.partial(hook, self)\n",
    "                 functools.update_wrapper(wrapper, hook)\n",
    "                 grad_fn.register_hook(wrapper)\n",
    "     return result\n",
    "\n",
    "def hook_fn(self, *input, **kwargs):\n",
    "     for hook in self._forward_pre_hooks.values():\n",
    "         result = hook(self, input)\n",
    "         if result is not None:\n",
    "             if not isinstance(result, tuple):\n",
    "                 result = (result,)\n",
    "             input = result\n",
    "     if torch._C._get_tracing_state():\n",
    "         result = self._slow_forward(*input, **kwargs)\n",
    "     else:\n",
    "         result = self.forward(*[self,*input], **kwargs)\n",
    "     for hook in self._forward_hooks.values():\n",
    "         hook_result = hook(self, input, result)\n",
    "         if hook_result is not None:\n",
    "             result = hook_result\n",
    "     if len(self._backward_hooks) > 0:\n",
    "         var = result\n",
    "         while not isinstance(var, torch.Tensor):\n",
    "             if isinstance(var, dict):\n",
    "                 var = next((v for v in var.values() if isinstance(v, torch.Tensor)))\n",
    "             else:\n",
    "                 var = var[0]\n",
    "         grad_fn = var.grad_fn\n",
    "         if grad_fn is not None:\n",
    "             for hook in self._backward_hooks.values():\n",
    "                 wrapper = functools.partial(hook, self)\n",
    "                 functools.update_wrapper(wrapper, hook)\n",
    "                 grad_fn.register_hook(wrapper)\n",
    "     return result\n",
    "\n",
    "#nn.Module.__call__ = hook_fn\n",
    "nn.Module.__call__ = original_fn"
   ]
  },
  {
   "cell_type": "markdown",
   "metadata": {},
   "source": [
    "### Testing the sampling functions:"
   ]
  },
  {
   "cell_type": "code",
   "execution_count": 13,
   "metadata": {},
   "outputs": [
    {
     "name": "stderr",
     "output_type": "stream",
     "text": [
      "2020-01-18 12:50:07 kevin-PRIME-Z270-P minerl.env.malmo.instance.2319da[11883] INFO Starting Minecraft process: ['/tmp/tmpsqdinwrn/Minecraft/launchClient.sh', '-port', '9002', '-env', '-runDir', '/tmp/tmpsqdinwrn/Minecraft/run']\n",
      "2020-01-18 12:50:08 kevin-PRIME-Z270-P minerl.env.malmo.instance.2319da[11883] INFO Starting process watcher for process 12898 @ localhost:9002\n",
      "2020-01-18 12:50:44 kevin-PRIME-Z270-P minerl.env.malmo.instance.2319da[11883] INFO Minecraft process ready\n",
      "2020-01-18 12:50:44 kevin-PRIME-Z270-P minerl.env.malmo[11883] INFO Logging output of Minecraft to ./logs/mc_2.log\n"
     ]
    }
   ],
   "source": [
    "observation = task.env.observation_space.sample() #task.env.reset()"
   ]
  },
  {
   "cell_type": "code",
   "execution_count": 14,
   "metadata": {},
   "outputs": [
    {
     "name": "stdout",
     "output_type": "stream",
     "text": [
      "(84, 84, 12) 0.0032628728 254.99591\n"
     ]
    }
   ],
   "source": [
    "print(observation.shape, observation.min(), observation.max())"
   ]
  },
  {
   "cell_type": "code",
   "execution_count": 15,
   "metadata": {},
   "outputs": [],
   "source": [
    "%matplotlib inline  \n",
    "import matplotlib.pyplot as plt"
   ]
  },
  {
   "cell_type": "code",
   "execution_count": 16,
   "metadata": {},
   "outputs": [
    {
     "name": "stdout",
     "output_type": "stream",
     "text": [
      "(84, 84, 3)\n"
     ]
    },
    {
     "data": {
      "text/plain": [
       "<matplotlib.image.AxesImage at 0x7f7cc8b6dcf8>"
      ]
     },
     "execution_count": 16,
     "metadata": {},
     "output_type": "execute_result"
    },
    {
     "data": {
      "image/png": "[encoded data removed]",
      "text/plain": [
       "<Figure size 432x288 with 1 Axes>"
      ]
     },
     "metadata": {
      "needs_background": "light"
     },
     "output_type": "display_data"
    }
   ],
   "source": [
    "test_obs = observation[...,:3]/255.0\n",
    "print(test_obs.shape)\n",
    "plt.imshow(test_obs)"
   ]
  },
  {
   "cell_type": "code",
   "execution_count": 17,
   "metadata": {},
   "outputs": [],
   "source": [
    "robs = task.env.reset()"
   ]
  },
  {
   "cell_type": "code",
   "execution_count": 20,
   "metadata": {},
   "outputs": [],
   "source": [
    "a = task.env.action_space.sample()\n",
    "obs, r, done, info = task.env.step(np.array([a]))"
   ]
  },
  {
   "cell_type": "code",
   "execution_count": 21,
   "metadata": {},
   "outputs": [
    {
     "name": "stdout",
     "output_type": "stream",
     "text": [
      "(1, 84, 84, 12) 8.0 207.0\n"
     ]
    },
    {
     "data": {
      "text/plain": [
       "<matplotlib.image.AxesImage at 0x7f7cc8a4d358>"
      ]
     },
     "execution_count": 21,
     "metadata": {},
     "output_type": "execute_result"
    },
    {
     "data": {
      "image/png": "[encoded data removed]",
      "text/plain": [
       "<Figure size 432x288 with 1 Axes>"
      ]
     },
     "metadata": {
      "needs_background": "light"
     },
     "output_type": "display_data"
    }
   ],
   "source": [
    "print(robs.shape, robs.min(), robs.max())\n",
    "plt.imshow(robs[0,...,:3]/255.0)"
   ]
  },
  {
   "cell_type": "code",
   "execution_count": 22,
   "metadata": {},
   "outputs": [
    {
     "data": {
      "text/plain": [
       "<matplotlib.image.AxesImage at 0x7f7cc8a26f60>"
      ]
     },
     "execution_count": 22,
     "metadata": {},
     "output_type": "execute_result"
    },
    {
     "data": {
      "image/png": "[encoded data removed]",
      "text/plain": [
       "<Figure size 432x288 with 1 Axes>"
      ]
     },
     "metadata": {
      "needs_background": "light"
     },
     "output_type": "display_data"
    }
   ],
   "source": [
    "def lineup(obs):\n",
    "    lineupobs = np.concatenate([obs[0,...,i:i+3] for i in range(0,12,3)], axis=1)\n",
    "    return lineupobs\n",
    "plt.imshow(lineup(obs)/255.0)"
   ]
  },
  {
   "cell_type": "markdown",
   "metadata": {},
   "source": [
    "### Sampling from each agents:"
   ]
  },
  {
   "cell_type": "code",
   "execution_count": 23,
   "metadata": {},
   "outputs": [
    {
     "name": "stdout",
     "output_type": "stream",
     "text": [
      "Automatic pdb calling has been turned ON\n"
     ]
    }
   ],
   "source": [
    "%pdb"
   ]
  },
  {
   "cell_type": "code",
   "execution_count": 26,
   "metadata": {},
   "outputs": [
    {
     "name": "stdout",
     "output_type": "stream",
     "text": [
      "Sampling actions with function 1.\n"
     ]
    },
    {
     "ename": "NameError",
     "evalue": "name 'tensor' is not defined",
     "output_type": "error",
     "traceback": [
      "\u001b[0;31m---------------------------------------------------------------------------\u001b[0m",
      "\u001b[0;31mNameError\u001b[0m                                 Traceback (most recent call last)",
      "\u001b[0;32m<ipython-input-26-39f958793d73>\u001b[0m in \u001b[0;36m<module>\u001b[0;34m\u001b[0m\n\u001b[1;32m      2\u001b[0m \u001b[0;32mfor\u001b[0m \u001b[0mid\u001b[0m\u001b[0;34m,\u001b[0m \u001b[0magent\u001b[0m \u001b[0;32min\u001b[0m \u001b[0menumerate\u001b[0m\u001b[0;34m(\u001b[0m\u001b[0magents\u001b[0m\u001b[0;34m)\u001b[0m\u001b[0;34m:\u001b[0m\u001b[0;34m\u001b[0m\u001b[0;34m\u001b[0m\u001b[0m\n\u001b[1;32m      3\u001b[0m     \u001b[0;31m#try:\u001b[0m\u001b[0;34m\u001b[0m\u001b[0;34m\u001b[0m\u001b[0;34m\u001b[0m\u001b[0m\n\u001b[0;32m----> 4\u001b[0;31m     \u001b[0ma\u001b[0m \u001b[0;34m=\u001b[0m \u001b[0magent\u001b[0m\u001b[0;34m.\u001b[0m\u001b[0mtake_action\u001b[0m\u001b[0;34m(\u001b[0m\u001b[0mobs\u001b[0m\u001b[0;34m)\u001b[0m\u001b[0;34m\u001b[0m\u001b[0;34m\u001b[0m\u001b[0m\n\u001b[0m\u001b[1;32m      5\u001b[0m     \u001b[0mactions\u001b[0m\u001b[0;34m.\u001b[0m\u001b[0mappend\u001b[0m\u001b[0;34m(\u001b[0m\u001b[0ma\u001b[0m\u001b[0;34m)\u001b[0m\u001b[0;34m\u001b[0m\u001b[0;34m\u001b[0m\u001b[0m\n\u001b[1;32m      6\u001b[0m     \u001b[0;31m#except Exception as e:\u001b[0m\u001b[0;34m\u001b[0m\u001b[0;34m\u001b[0m\u001b[0;34m\u001b[0m\u001b[0m\n",
      "\u001b[0;32m/media/kevin/TOSHIBA_EXT1/DATA/UNI/MineRL/minerl/train/Regym/regym/rl_algorithms/agents/ppo_agent.py\u001b[0m in \u001b[0;36mtake_action\u001b[0;34m(self, state)\u001b[0m\n\u001b[1;32m    245\u001b[0m             \u001b[0mself\u001b[0m\u001b[0;34m.\u001b[0m\u001b[0mcurrent_prediction\u001b[0m \u001b[0;34m=\u001b[0m \u001b[0mself\u001b[0m\u001b[0;34m.\u001b[0m\u001b[0malgorithm\u001b[0m\u001b[0;34m.\u001b[0m\u001b[0mmodel\u001b[0m\u001b[0;34m(\u001b[0m\u001b[0mstate\u001b[0m\u001b[0;34m,\u001b[0m \u001b[0mrnn_states\u001b[0m\u001b[0;34m=\u001b[0m\u001b[0mself\u001b[0m\u001b[0;34m.\u001b[0m\u001b[0mrnn_states\u001b[0m\u001b[0;34m)\u001b[0m\u001b[0;34m\u001b[0m\u001b[0;34m\u001b[0m\u001b[0m\n\u001b[1;32m    246\u001b[0m         \u001b[0;32melse\u001b[0m\u001b[0;34m:\u001b[0m\u001b[0;34m\u001b[0m\u001b[0;34m\u001b[0m\u001b[0m\n\u001b[0;32m--> 247\u001b[0;31m             \u001b[0mself\u001b[0m\u001b[0;34m.\u001b[0m\u001b[0mcurrent_prediction\u001b[0m \u001b[0;34m=\u001b[0m \u001b[0mself\u001b[0m\u001b[0;34m.\u001b[0m\u001b[0malgorithm\u001b[0m\u001b[0;34m.\u001b[0m\u001b[0mmodel\u001b[0m\u001b[0;34m(\u001b[0m\u001b[0mstate\u001b[0m\u001b[0;34m)\u001b[0m\u001b[0;34m\u001b[0m\u001b[0;34m\u001b[0m\u001b[0m\n\u001b[0m\u001b[1;32m    248\u001b[0m         \u001b[0mself\u001b[0m\u001b[0;34m.\u001b[0m\u001b[0mcurrent_prediction\u001b[0m \u001b[0;34m=\u001b[0m \u001b[0mself\u001b[0m\u001b[0;34m.\u001b[0m\u001b[0m_post_process\u001b[0m\u001b[0;34m(\u001b[0m\u001b[0mself\u001b[0m\u001b[0;34m.\u001b[0m\u001b[0mcurrent_prediction\u001b[0m\u001b[0;34m)\u001b[0m\u001b[0;34m\u001b[0m\u001b[0;34m\u001b[0m\u001b[0m\n\u001b[1;32m    249\u001b[0m \u001b[0;34m\u001b[0m\u001b[0m\n",
      "\u001b[0;32m<ipython-input-25-93352f6bb66c>\u001b[0m in \u001b[0;36moriginal_fn\u001b[0;34m(self, *input, **kwargs)\u001b[0m\n\u001b[1;32m     12\u001b[0m          \u001b[0mresult\u001b[0m \u001b[0;34m=\u001b[0m \u001b[0mself\u001b[0m\u001b[0;34m.\u001b[0m\u001b[0m_slow_forward\u001b[0m\u001b[0;34m(\u001b[0m\u001b[0;34m*\u001b[0m\u001b[0minput\u001b[0m\u001b[0;34m,\u001b[0m \u001b[0;34m**\u001b[0m\u001b[0mkwargs\u001b[0m\u001b[0;34m)\u001b[0m\u001b[0;34m\u001b[0m\u001b[0;34m\u001b[0m\u001b[0m\n\u001b[1;32m     13\u001b[0m      \u001b[0;32melse\u001b[0m\u001b[0;34m:\u001b[0m\u001b[0;34m\u001b[0m\u001b[0;34m\u001b[0m\u001b[0m\n\u001b[0;32m---> 14\u001b[0;31m          \u001b[0mresult\u001b[0m \u001b[0;34m=\u001b[0m \u001b[0mself\u001b[0m\u001b[0;34m.\u001b[0m\u001b[0mforward\u001b[0m\u001b[0;34m(\u001b[0m\u001b[0;34m*\u001b[0m\u001b[0minput\u001b[0m\u001b[0;34m,\u001b[0m \u001b[0;34m**\u001b[0m\u001b[0mkwargs\u001b[0m\u001b[0;34m)\u001b[0m\u001b[0;34m\u001b[0m\u001b[0;34m\u001b[0m\u001b[0m\n\u001b[0m\u001b[1;32m     15\u001b[0m      \u001b[0;32mfor\u001b[0m \u001b[0mhook\u001b[0m \u001b[0;32min\u001b[0m \u001b[0mself\u001b[0m\u001b[0;34m.\u001b[0m\u001b[0m_forward_hooks\u001b[0m\u001b[0;34m.\u001b[0m\u001b[0mvalues\u001b[0m\u001b[0;34m(\u001b[0m\u001b[0;34m)\u001b[0m\u001b[0;34m:\u001b[0m\u001b[0;34m\u001b[0m\u001b[0;34m\u001b[0m\u001b[0m\n\u001b[1;32m     16\u001b[0m          \u001b[0mhook_result\u001b[0m \u001b[0;34m=\u001b[0m \u001b[0mhook\u001b[0m\u001b[0;34m(\u001b[0m\u001b[0mself\u001b[0m\u001b[0;34m,\u001b[0m \u001b[0minput\u001b[0m\u001b[0;34m,\u001b[0m \u001b[0mresult\u001b[0m\u001b[0;34m)\u001b[0m\u001b[0;34m\u001b[0m\u001b[0;34m\u001b[0m\u001b[0m\n",
      "\u001b[0;32m<ipython-input-7-b255727724d3>\u001b[0m in \u001b[0;36mforward1\u001b[0;34m(self, obs, action, rnn_states)\u001b[0m\n\u001b[1;32m    111\u001b[0m     \u001b[0;32mif\u001b[0m \u001b[0mVERBOSE\u001b[0m\u001b[0;34m:\u001b[0m\u001b[0;34m\u001b[0m\u001b[0;34m\u001b[0m\u001b[0m\n\u001b[1;32m    112\u001b[0m         \u001b[0mprint\u001b[0m\u001b[0;34m(\u001b[0m\u001b[0;34m\"Sampling actions with function 1.\"\u001b[0m\u001b[0;34m)\u001b[0m\u001b[0;34m\u001b[0m\u001b[0;34m\u001b[0m\u001b[0m\n\u001b[0;32m--> 113\u001b[0;31m     \u001b[0mobs\u001b[0m \u001b[0;34m=\u001b[0m \u001b[0mtensor\u001b[0m\u001b[0;34m(\u001b[0m\u001b[0mobs\u001b[0m\u001b[0;34m)\u001b[0m\u001b[0;34m\u001b[0m\u001b[0;34m\u001b[0m\u001b[0m\n\u001b[0m\u001b[1;32m    114\u001b[0m     \u001b[0mnext_rnn_states\u001b[0m \u001b[0;34m=\u001b[0m \u001b[0;32mNone\u001b[0m\u001b[0;34m\u001b[0m\u001b[0;34m\u001b[0m\u001b[0m\n\u001b[1;32m    115\u001b[0m     \u001b[0;32mif\u001b[0m \u001b[0mrnn_states\u001b[0m \u001b[0;32mis\u001b[0m \u001b[0;32mnot\u001b[0m \u001b[0;32mNone\u001b[0m\u001b[0;34m:\u001b[0m\u001b[0;34m\u001b[0m\u001b[0;34m\u001b[0m\u001b[0m\n",
      "\u001b[0;31mNameError\u001b[0m: name 'tensor' is not defined"
     ]
    },
    {
     "name": "stdout",
     "output_type": "stream",
     "text": [
      "> \u001b[0;32m<ipython-input-7-b255727724d3>\u001b[0m(113)\u001b[0;36mforward1\u001b[0;34m()\u001b[0m\n",
      "\u001b[0;32m    111 \u001b[0;31m    \u001b[0;32mif\u001b[0m \u001b[0mVERBOSE\u001b[0m\u001b[0;34m:\u001b[0m\u001b[0;34m\u001b[0m\u001b[0;34m\u001b[0m\u001b[0m\n",
      "\u001b[0m\u001b[0;32m    112 \u001b[0;31m        \u001b[0mprint\u001b[0m\u001b[0;34m(\u001b[0m\u001b[0;34m\"Sampling actions with function 1.\"\u001b[0m\u001b[0;34m)\u001b[0m\u001b[0;34m\u001b[0m\u001b[0;34m\u001b[0m\u001b[0m\n",
      "\u001b[0m\u001b[0;32m--> 113 \u001b[0;31m    \u001b[0mobs\u001b[0m \u001b[0;34m=\u001b[0m \u001b[0mtensor\u001b[0m\u001b[0;34m(\u001b[0m\u001b[0mobs\u001b[0m\u001b[0;34m)\u001b[0m\u001b[0;34m\u001b[0m\u001b[0;34m\u001b[0m\u001b[0m\n",
      "\u001b[0m\u001b[0;32m    114 \u001b[0;31m    \u001b[0mnext_rnn_states\u001b[0m \u001b[0;34m=\u001b[0m \u001b[0;32mNone\u001b[0m\u001b[0;34m\u001b[0m\u001b[0;34m\u001b[0m\u001b[0m\n",
      "\u001b[0m\u001b[0;32m    115 \u001b[0;31m    \u001b[0;32mif\u001b[0m \u001b[0mrnn_states\u001b[0m \u001b[0;32mis\u001b[0m \u001b[0;32mnot\u001b[0m \u001b[0;32mNone\u001b[0m\u001b[0;34m:\u001b[0m\u001b[0;34m\u001b[0m\u001b[0;34m\u001b[0m\u001b[0m\n",
      "\u001b[0m\n",
      "ipdb> pp self\n",
      "tensor([[[[0.4157, 0.3779, 0.4077,  ..., 0.4039, 0.4039, 0.4039],\n",
      "          [0.3880, 0.3501, 0.3779,  ..., 0.4039, 0.4039, 0.4039],\n",
      "          [0.2868, 0.3062, 0.3465,  ..., 0.4039, 0.4034, 0.4023],\n",
      "          ...,\n",
      "          [0.2392, 0.2797, 0.3205,  ..., 0.2372, 0.2474, 0.2601],\n",
      "          [0.2770, 0.3217, 0.3475,  ..., 0.2755, 0.2803, 0.2964],\n",
      "          [0.3451, 0.3476, 0.3490,  ..., 0.2874, 0.2812, 0.3216]],\n",
      "\n",
      "         [[0.2980, 0.2703, 0.2914,  ..., 0.5153, 0.5137, 0.5137],\n",
      "          [0.2779, 0.2501, 0.2702,  ..., 0.5143, 0.5137, 0.5137],\n",
      "          [0.2556, 0.2360, 0.2465,  ..., 0.5128, 0.5121, 0.5121],\n",
      "          ...,\n",
      "          [0.3121, 0.3657, 0.4189,  ..., 0.2512, 0.2230, 0.2358],\n",
      "          [0.3627, 0.4204, 0.4540,  ..., 0.2982, 0.2355, 0.2087],\n",
      "          [0.4510, 0.4535, 0.4565,  ..., 0.3777, 0.3020, 0.2314]],\n",
      "\n",
      "         [[0.2039, 0.1838, 0.1995,  ..., 0.7388, 0.7373, 0.7373],\n",
      "          [0.1913, 0.1711, 0.1849,  ..., 0.7363, 0.7347, 0.7347],\n",
      "          [0.1589, 0.1561, 0.1687,  ..., 0.7333, 0.7317, 0.7317],\n",
      "          ...,\n",
      "          [0.1906, 0.2231, 0.2556,  ..., 0.1584, 0.1447, 0.1524],\n",
      "          [0.2216, 0.2565, 0.2769,  ..., 0.1877, 0.1556, 0.1431],\n",
      "          [0.2745, 0.2770, 0.2784,  ..., 0.2301, 0.1910, 0.1608]],\n",
      "\n",
      "         ...,\n",
      "\n",
      "         [[0.2941, 0.3168, 0.3453,  ..., 0.4588, 0.4588, 0.4588],\n",
      "          [0.2992, 0.3008, 0.3278,  ..., 0.4588, 0.4588, 0.4588],\n",
      "          [0.3194, 0.3002, 0.3064,  ..., 0.4588, 0.4588, 0.4588],\n",
      "          ...,\n",
      "          [0.2337, 0.2497, 0.2651,  ..., 0.1722, 0.1597, 0.1502],\n",
      "          [0.2493, 0.2655, 0.2751,  ..., 0.2120, 0.1988, 0.1725],\n",
      "          [0.2745, 0.2745, 0.2761,  ..., 0.3167, 0.3112, 0.2784]],\n",
      "\n",
      "         [[0.2078, 0.2255, 0.2464,  ..., 0.5725, 0.5725, 0.5725],\n",
      "          [0.2104, 0.2134, 0.2344,  ..., 0.5725, 0.5725, 0.5725],\n",
      "          [0.2261, 0.2128, 0.2235,  ..., 0.5725, 0.5720, 0.5710],\n",
      "          ...,\n",
      "          [0.3043, 0.3248, 0.3455,  ..., 0.2239, 0.2070, 0.1966],\n",
      "          [0.3241, 0.3461, 0.3599,  ..., 0.2348, 0.1927, 0.1658],\n",
      "          [0.3569, 0.3594, 0.3624,  ..., 0.2972, 0.2213, 0.1961]],\n",
      "\n",
      "         [[0.1412, 0.1563, 0.1711,  ..., 0.8157, 0.8143, 0.8118],\n",
      "          [0.1437, 0.1459, 0.1606,  ..., 0.8132, 0.8118, 0.8092],\n",
      "          [0.1546, 0.1445, 0.1589,  ..., 0.8108, 0.8093, 0.8078],\n",
      "          ...,\n",
      "          [0.1866, 0.1982, 0.2100,  ..., 0.1370, 0.1268, 0.1204],\n",
      "          [0.1994, 0.2108, 0.2187,  ..., 0.1475, 0.1232, 0.1056],\n",
      "          [0.2196, 0.2196, 0.2212,  ..., 0.1925, 0.1510, 0.1333]]]],\n",
      "       device='cuda:0')\n",
      "ipdb> exit\n"
     ]
    }
   ],
   "source": [
    "actions = []\n",
    "for id, agent in enumerate(agents): \n",
    "    #try:\n",
    "    a = agent.take_action(obs)\n",
    "    actions.append(a)\n",
    "    #except Exception as e:\n",
    "    #    print(f'Agent {id} : {e}')"
   ]
  },
  {
   "cell_type": "code",
   "execution_count": 56,
   "metadata": {},
   "outputs": [
    {
     "name": "stdout",
     "output_type": "stream",
     "text": [
      "[array([3]), array([0])]\n"
     ]
    }
   ],
   "source": [
    "print(actions)"
   ]
  },
  {
   "cell_type": "code",
   "execution_count": null,
   "metadata": {},
   "outputs": [],
   "source": []
  },
  {
   "cell_type": "code",
   "execution_count": 83,
   "metadata": {},
   "outputs": [
    {
     "name": "stdout",
     "output_type": "stream",
     "text": [
      "1\n"
     ]
    }
   ],
   "source": []
  }
 ],
 "metadata": {
  "kernelspec": {
   "display_name": "Python 3",
   "language": "python",
   "name": "python3"
  },
  "language_info": {
   "codemirror_mode": {
    "name": "ipython",
    "version": 3
   },
   "file_extension": ".py",
   "mimetype": "text/x-python",
   "name": "python",
   "nbconvert_exporter": "python",
   "pygments_lexer": "ipython3",
   "version": "3.6.8"
  }
 },
 "nbformat": 4,
 "nbformat_minor": 4
}
